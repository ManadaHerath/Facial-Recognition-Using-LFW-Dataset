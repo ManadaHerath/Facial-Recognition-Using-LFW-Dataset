{
  "nbformat": 4,
  "nbformat_minor": 0,
  "metadata": {
    "colab": {
      "provenance": []
    },
    "kernelspec": {
      "name": "python3",
      "display_name": "Python 3"
    },
    "language_info": {
      "name": "python"
    },
    "widgets": {
      "application/vnd.jupyter.widget-state+json": {
        "2ea6b4e1762b4be3a30c4a8ea988365a": {
          "model_module": "@jupyter-widgets/controls",
          "model_name": "FileUploadModel",
          "model_module_version": "1.5.0",
          "state": {
            "_counter": 1,
            "_dom_classes": [],
            "_model_module": "@jupyter-widgets/controls",
            "_model_module_version": "1.5.0",
            "_model_name": "FileUploadModel",
            "_view_count": null,
            "_view_module": "@jupyter-widgets/controls",
            "_view_module_version": "1.5.0",
            "_view_name": "FileUploadView",
            "accept": ".jpg",
            "button_style": "",
            "data": [
              null
            ],
            "description": "Upload",
            "description_tooltip": null,
            "disabled": false,
            "error": "",
            "icon": "upload",
            "layout": "IPY_MODEL_4fcd43e813c949b9b1c4dc97c340c106",
            "metadata": [
              {
                "name": "George_W_Bush.jpg",
                "type": "image/jpeg",
                "size": 126888,
                "lastModified": 1717013265442
              }
            ],
            "multiple": false,
            "style": "IPY_MODEL_9ce4e588b95d4ff69aeaf18c64b4b671"
          }
        },
        "4fcd43e813c949b9b1c4dc97c340c106": {
          "model_module": "@jupyter-widgets/base",
          "model_name": "LayoutModel",
          "model_module_version": "1.2.0",
          "state": {
            "_model_module": "@jupyter-widgets/base",
            "_model_module_version": "1.2.0",
            "_model_name": "LayoutModel",
            "_view_count": null,
            "_view_module": "@jupyter-widgets/base",
            "_view_module_version": "1.2.0",
            "_view_name": "LayoutView",
            "align_content": null,
            "align_items": null,
            "align_self": null,
            "border": null,
            "bottom": null,
            "display": null,
            "flex": null,
            "flex_flow": null,
            "grid_area": null,
            "grid_auto_columns": null,
            "grid_auto_flow": null,
            "grid_auto_rows": null,
            "grid_column": null,
            "grid_gap": null,
            "grid_row": null,
            "grid_template_areas": null,
            "grid_template_columns": null,
            "grid_template_rows": null,
            "height": null,
            "justify_content": null,
            "justify_items": null,
            "left": null,
            "margin": null,
            "max_height": null,
            "max_width": null,
            "min_height": null,
            "min_width": null,
            "object_fit": null,
            "object_position": null,
            "order": null,
            "overflow": null,
            "overflow_x": null,
            "overflow_y": null,
            "padding": null,
            "right": null,
            "top": null,
            "visibility": null,
            "width": null
          }
        },
        "9ce4e588b95d4ff69aeaf18c64b4b671": {
          "model_module": "@jupyter-widgets/controls",
          "model_name": "ButtonStyleModel",
          "model_module_version": "1.5.0",
          "state": {
            "_model_module": "@jupyter-widgets/controls",
            "_model_module_version": "1.5.0",
            "_model_name": "ButtonStyleModel",
            "_view_count": null,
            "_view_module": "@jupyter-widgets/base",
            "_view_module_version": "1.2.0",
            "_view_name": "StyleView",
            "button_color": null,
            "font_weight": ""
          }
        }
      }
    }
  },
  "cells": [
    {
      "cell_type": "code",
      "source": [
        "!rm -r /kaggle\n",
        "!rm -r /input"
      ],
      "metadata": {
        "colab": {
          "base_uri": "https://localhost:8080/"
        },
        "id": "Uhm0hiUPHIqW",
        "outputId": "6ef86cb9-f628-4c6d-bbc4-71c74beb54dc"
      },
      "execution_count": 1,
      "outputs": [
        {
          "output_type": "stream",
          "name": "stdout",
          "text": [
            "rm: cannot remove '/kaggle/input': Device or resource busy\n",
            "rm: cannot remove '/input': No such file or directory\n"
          ]
        }
      ]
    },
    {
      "cell_type": "code",
      "source": [
        "!mkdir /input\n",
        "!mkdir /kaggle\n",
        "!mkdir /kaggle/working"
      ],
      "metadata": {
        "colab": {
          "base_uri": "https://localhost:8080/"
        },
        "id": "8n20AmesIQMi",
        "outputId": "fc3fb39b-bd27-434c-8063-463d3507e59f"
      },
      "execution_count": 2,
      "outputs": [
        {
          "output_type": "stream",
          "name": "stdout",
          "text": [
            "mkdir: cannot create directory ‘/kaggle’: File exists\n"
          ]
        }
      ]
    },
    {
      "cell_type": "code",
      "execution_count": 3,
      "metadata": {
        "colab": {
          "base_uri": "https://localhost:8080/"
        },
        "id": "8xd2pVrP80Oh",
        "outputId": "d8ff8c80-41f3-4b7a-a7a3-f8690ad701b3"
      },
      "outputs": [
        {
          "output_type": "stream",
          "name": "stdout",
          "text": [
            "Collecting mtcnn\n",
            "  Downloading mtcnn-0.1.1-py3-none-any.whl (2.3 MB)\n",
            "\u001b[2K     \u001b[90m━━━━━━━━━━━━━━━━━━━━━━━━━━━━━━━━━━━━━━━━\u001b[0m \u001b[32m2.3/2.3 MB\u001b[0m \u001b[31m11.1 MB/s\u001b[0m eta \u001b[36m0:00:00\u001b[0m\n",
            "\u001b[?25hRequirement already satisfied: keras>=2.0.0 in /usr/local/lib/python3.10/dist-packages (from mtcnn) (2.15.0)\n",
            "Requirement already satisfied: opencv-python>=4.1.0 in /usr/local/lib/python3.10/dist-packages (from mtcnn) (4.8.0.76)\n",
            "Requirement already satisfied: numpy>=1.21.2 in /usr/local/lib/python3.10/dist-packages (from opencv-python>=4.1.0->mtcnn) (1.25.2)\n",
            "Installing collected packages: mtcnn\n",
            "Successfully installed mtcnn-0.1.1\n"
          ]
        }
      ],
      "source": [
        "# general functions\n",
        "import os\n",
        "import cv2\n",
        "import matplotlib.pyplot as plt\n",
        "import pandas as pd\n",
        "import numpy as np\n",
        "from collections import OrderedDict\n",
        "# visualization\n",
        "from PIL import Image\n",
        "# identifying faces\n",
        "%pip install mtcnn\n",
        "from mtcnn.mtcnn import MTCNN\n",
        "# visualizing bounding boxes\n",
        "import matplotlib.patches as patches\n",
        "# CNN\n",
        "import keras\n",
        "from sklearn.model_selection import train_test_split\n",
        "# Moving files between directories\n",
        "import shutil\n",
        "from shutil import unpack_archive\n",
        "from subprocess import check_output\n",
        "\n",
        "dataset_path = \"../input/lfw-dataset/lfw-deepfunneled/lfw-deepfunneled/\"\n"
      ]
    },
    {
      "cell_type": "code",
      "source": [
        "import os\n",
        "from google.colab import files\n",
        "\n",
        "files.upload()\n",
        "\n",
        "dataset = 'lfw-dataset'\n",
        "\n",
        "!rm -r $dataset\n",
        "\n",
        "!rm -r ~/.kaggle\n",
        "!mkdir ~/.kaggle\n",
        "\n",
        "!mv kaggle.json ~/.kaggle/\n",
        "!chmod 600 ~/.kaggle/kaggle.json\n",
        "\n",
        "!kaggle datasets download -d jessicali9530/lfw-dataset\n",
        "\n",
        "zip_file = f\"{dataset}.zip\"\n",
        "destination_dir = f\"../input/lfw-dataset\"\n",
        "\n",
        "if not os.path.exists(zip_file):\n",
        "    print(f\"Error: {zip_file} not found.\")\n",
        "else:\n",
        "    !unzip -q $zip_file -d $destination_dir\n",
        "    !rm $zip_file"
      ],
      "metadata": {
        "colab": {
          "base_uri": "https://localhost:8080/",
          "height": 229
        },
        "id": "x6Sog9IQ9tlo",
        "outputId": "ba5c3760-79d5-4b30-b064-9118baf8c210"
      },
      "execution_count": 4,
      "outputs": [
        {
          "output_type": "display_data",
          "data": {
            "text/plain": [
              "<IPython.core.display.HTML object>"
            ],
            "text/html": [
              "\n",
              "     <input type=\"file\" id=\"files-aebfffc1-e8f4-46c2-92d5-bdce4cac9c43\" name=\"files[]\" multiple disabled\n",
              "        style=\"border:none\" />\n",
              "     <output id=\"result-aebfffc1-e8f4-46c2-92d5-bdce4cac9c43\">\n",
              "      Upload widget is only available when the cell has been executed in the\n",
              "      current browser session. Please rerun this cell to enable.\n",
              "      </output>\n",
              "      <script>// Copyright 2017 Google LLC\n",
              "//\n",
              "// Licensed under the Apache License, Version 2.0 (the \"License\");\n",
              "// you may not use this file except in compliance with the License.\n",
              "// You may obtain a copy of the License at\n",
              "//\n",
              "//      http://www.apache.org/licenses/LICENSE-2.0\n",
              "//\n",
              "// Unless required by applicable law or agreed to in writing, software\n",
              "// distributed under the License is distributed on an \"AS IS\" BASIS,\n",
              "// WITHOUT WARRANTIES OR CONDITIONS OF ANY KIND, either express or implied.\n",
              "// See the License for the specific language governing permissions and\n",
              "// limitations under the License.\n",
              "\n",
              "/**\n",
              " * @fileoverview Helpers for google.colab Python module.\n",
              " */\n",
              "(function(scope) {\n",
              "function span(text, styleAttributes = {}) {\n",
              "  const element = document.createElement('span');\n",
              "  element.textContent = text;\n",
              "  for (const key of Object.keys(styleAttributes)) {\n",
              "    element.style[key] = styleAttributes[key];\n",
              "  }\n",
              "  return element;\n",
              "}\n",
              "\n",
              "// Max number of bytes which will be uploaded at a time.\n",
              "const MAX_PAYLOAD_SIZE = 100 * 1024;\n",
              "\n",
              "function _uploadFiles(inputId, outputId) {\n",
              "  const steps = uploadFilesStep(inputId, outputId);\n",
              "  const outputElement = document.getElementById(outputId);\n",
              "  // Cache steps on the outputElement to make it available for the next call\n",
              "  // to uploadFilesContinue from Python.\n",
              "  outputElement.steps = steps;\n",
              "\n",
              "  return _uploadFilesContinue(outputId);\n",
              "}\n",
              "\n",
              "// This is roughly an async generator (not supported in the browser yet),\n",
              "// where there are multiple asynchronous steps and the Python side is going\n",
              "// to poll for completion of each step.\n",
              "// This uses a Promise to block the python side on completion of each step,\n",
              "// then passes the result of the previous step as the input to the next step.\n",
              "function _uploadFilesContinue(outputId) {\n",
              "  const outputElement = document.getElementById(outputId);\n",
              "  const steps = outputElement.steps;\n",
              "\n",
              "  const next = steps.next(outputElement.lastPromiseValue);\n",
              "  return Promise.resolve(next.value.promise).then((value) => {\n",
              "    // Cache the last promise value to make it available to the next\n",
              "    // step of the generator.\n",
              "    outputElement.lastPromiseValue = value;\n",
              "    return next.value.response;\n",
              "  });\n",
              "}\n",
              "\n",
              "/**\n",
              " * Generator function which is called between each async step of the upload\n",
              " * process.\n",
              " * @param {string} inputId Element ID of the input file picker element.\n",
              " * @param {string} outputId Element ID of the output display.\n",
              " * @return {!Iterable<!Object>} Iterable of next steps.\n",
              " */\n",
              "function* uploadFilesStep(inputId, outputId) {\n",
              "  const inputElement = document.getElementById(inputId);\n",
              "  inputElement.disabled = false;\n",
              "\n",
              "  const outputElement = document.getElementById(outputId);\n",
              "  outputElement.innerHTML = '';\n",
              "\n",
              "  const pickedPromise = new Promise((resolve) => {\n",
              "    inputElement.addEventListener('change', (e) => {\n",
              "      resolve(e.target.files);\n",
              "    });\n",
              "  });\n",
              "\n",
              "  const cancel = document.createElement('button');\n",
              "  inputElement.parentElement.appendChild(cancel);\n",
              "  cancel.textContent = 'Cancel upload';\n",
              "  const cancelPromise = new Promise((resolve) => {\n",
              "    cancel.onclick = () => {\n",
              "      resolve(null);\n",
              "    };\n",
              "  });\n",
              "\n",
              "  // Wait for the user to pick the files.\n",
              "  const files = yield {\n",
              "    promise: Promise.race([pickedPromise, cancelPromise]),\n",
              "    response: {\n",
              "      action: 'starting',\n",
              "    }\n",
              "  };\n",
              "\n",
              "  cancel.remove();\n",
              "\n",
              "  // Disable the input element since further picks are not allowed.\n",
              "  inputElement.disabled = true;\n",
              "\n",
              "  if (!files) {\n",
              "    return {\n",
              "      response: {\n",
              "        action: 'complete',\n",
              "      }\n",
              "    };\n",
              "  }\n",
              "\n",
              "  for (const file of files) {\n",
              "    const li = document.createElement('li');\n",
              "    li.append(span(file.name, {fontWeight: 'bold'}));\n",
              "    li.append(span(\n",
              "        `(${file.type || 'n/a'}) - ${file.size} bytes, ` +\n",
              "        `last modified: ${\n",
              "            file.lastModifiedDate ? file.lastModifiedDate.toLocaleDateString() :\n",
              "                                    'n/a'} - `));\n",
              "    const percent = span('0% done');\n",
              "    li.appendChild(percent);\n",
              "\n",
              "    outputElement.appendChild(li);\n",
              "\n",
              "    const fileDataPromise = new Promise((resolve) => {\n",
              "      const reader = new FileReader();\n",
              "      reader.onload = (e) => {\n",
              "        resolve(e.target.result);\n",
              "      };\n",
              "      reader.readAsArrayBuffer(file);\n",
              "    });\n",
              "    // Wait for the data to be ready.\n",
              "    let fileData = yield {\n",
              "      promise: fileDataPromise,\n",
              "      response: {\n",
              "        action: 'continue',\n",
              "      }\n",
              "    };\n",
              "\n",
              "    // Use a chunked sending to avoid message size limits. See b/62115660.\n",
              "    let position = 0;\n",
              "    do {\n",
              "      const length = Math.min(fileData.byteLength - position, MAX_PAYLOAD_SIZE);\n",
              "      const chunk = new Uint8Array(fileData, position, length);\n",
              "      position += length;\n",
              "\n",
              "      const base64 = btoa(String.fromCharCode.apply(null, chunk));\n",
              "      yield {\n",
              "        response: {\n",
              "          action: 'append',\n",
              "          file: file.name,\n",
              "          data: base64,\n",
              "        },\n",
              "      };\n",
              "\n",
              "      let percentDone = fileData.byteLength === 0 ?\n",
              "          100 :\n",
              "          Math.round((position / fileData.byteLength) * 100);\n",
              "      percent.textContent = `${percentDone}% done`;\n",
              "\n",
              "    } while (position < fileData.byteLength);\n",
              "  }\n",
              "\n",
              "  // All done.\n",
              "  yield {\n",
              "    response: {\n",
              "      action: 'complete',\n",
              "    }\n",
              "  };\n",
              "}\n",
              "\n",
              "scope.google = scope.google || {};\n",
              "scope.google.colab = scope.google.colab || {};\n",
              "scope.google.colab._files = {\n",
              "  _uploadFiles,\n",
              "  _uploadFilesContinue,\n",
              "};\n",
              "})(self);\n",
              "</script> "
            ]
          },
          "metadata": {}
        },
        {
          "output_type": "stream",
          "name": "stdout",
          "text": [
            "Saving kaggle (1).json to kaggle (1).json\n",
            "rm: cannot remove 'lfw-dataset': No such file or directory\n",
            "rm: cannot remove '/root/.kaggle': No such file or directory\n",
            "mv: cannot stat 'kaggle.json': No such file or directory\n",
            "chmod: cannot access '/root/.kaggle/kaggle.json': No such file or directory\n",
            "Dataset URL: https://www.kaggle.com/datasets/jessicali9530/lfw-dataset\n",
            "License(s): other\n",
            "Downloading lfw-dataset.zip to /content\n",
            "100% 112M/112M [00:00<00:00, 156MB/s] \n",
            "100% 112M/112M [00:00<00:00, 129MB/s]\n"
          ]
        }
      ]
    },
    {
      "cell_type": "code",
      "source": [
        "\n",
        "lfw_allnames = pd.read_csv(\"../input/lfw-dataset/lfw_allnames.csv\")\n",
        "matchpairsDevTest = pd.read_csv(\"../input/lfw-dataset/matchpairsDevTest.csv\")\n",
        "matchpairsDevTrain = pd.read_csv(\"../input/lfw-dataset/matchpairsDevTrain.csv\")\n",
        "mismatchpairsDevTest = pd.read_csv(\"../input/lfw-dataset/mismatchpairsDevTest.csv\")\n",
        "mismatchpairsDevTrain = pd.read_csv(\"../input/lfw-dataset/mismatchpairsDevTrain.csv\")\n",
        "pairs = pd.read_csv(\"../input/lfw-dataset/pairs.csv\")\n",
        "# tidy pairs data:\n",
        "pairs = pairs.rename(columns ={'name': 'name1', 'Unnamed: 3': 'name2'})\n",
        "matched_pairs = pairs[pairs[\"name2\"].isnull()].drop(\"name2\",axis=1)\n",
        "mismatched_pairs = pairs[pairs[\"name2\"].notnull()]\n",
        "people = pd.read_csv(\"../input/lfw-dataset/people.csv\")\n",
        "# remove null values\n",
        "people = people[people.name.notnull()]\n",
        "peopleDevTest = pd.read_csv(\"../input/lfw-dataset/peopleDevTest.csv\")\n",
        "peopleDevTrain = pd.read_csv(\"../input/lfw-dataset/peopleDevTrain.csv\")"
      ],
      "metadata": {
        "id": "BLtol0JA9iv0"
      },
      "execution_count": 5,
      "outputs": []
    },
    {
      "cell_type": "code",
      "source": [
        "# shape data frame so there is a row per image, matched to relevant jpg file\n",
        "image_paths = lfw_allnames.loc[lfw_allnames.index.repeat(lfw_allnames['images'])]\n",
        "image_paths['image_path'] = 1 + image_paths.groupby('name').cumcount()\n",
        "image_paths['image_path'] = image_paths.image_path.apply(lambda x: '{0:0>4}'.format(x))\n",
        "image_paths['image_path'] = image_paths.name + \"/\" + image_paths.name + \"_\" + image_paths.image_path + \".jpg\"\n",
        "image_paths = image_paths.drop(\"images\", axis=1)\n",
        "\n",
        "# take a random sample: 80% of the data for the test set\n",
        "lfw_train, lfw_test = train_test_split(image_paths, test_size=0.2)\n",
        "lfw_train = lfw_train.reset_index().drop(\"index\", axis=1)\n",
        "lfw_test = lfw_test.reset_index().drop(\"index\",axis=1)\n",
        "\n",
        "# verify that there is a mix of seen and unseen individuals in the test set\n",
        "print(len(set(lfw_train.name).intersection(set(lfw_test.name))))\n",
        "print(len(set(lfw_test.name) - set(lfw_train.name)))"
      ],
      "metadata": {
        "colab": {
          "base_uri": "https://localhost:8080/"
        },
        "id": "cxBVpQbDBROo",
        "outputId": "c2993bf9-5024-4b1d-ac4d-bc311984e9cd"
      },
      "execution_count": 6,
      "outputs": [
        {
          "output_type": "stream",
          "name": "stdout",
          "text": [
            "844\n",
            "880\n"
          ]
        }
      ]
    },
    {
      "cell_type": "code",
      "source": [
        "image_paths['name'].value_counts()[:10].plot(kind = \"bar\")"
      ],
      "metadata": {
        "colab": {
          "base_uri": "https://localhost:8080/",
          "height": 587
        },
        "id": "5LK_d0_oBmbm",
        "outputId": "a2e42e8d-9cd5-4428-b051-ffc44e91497b"
      },
      "execution_count": 7,
      "outputs": [
        {
          "output_type": "execute_result",
          "data": {
            "text/plain": [
              "<Axes: xlabel='name'>"
            ]
          },
          "metadata": {},
          "execution_count": 7
        },
        {
          "output_type": "display_data",
          "data": {
            "text/plain": [
              "<Figure size 640x480 with 1 Axes>"
            ],
            "image/png": "[encoded data removed]"
          },
          "metadata": {}
        }
      ]
    },
    {
      "cell_type": "code",
      "source": [
        "image_paths['name'].value_counts()[:10]"
      ],
      "metadata": {
        "colab": {
          "base_uri": "https://localhost:8080/"
        },
        "id": "i0_hhIqEBtzQ",
        "outputId": "68a1e103-8a38-4a3b-cc22-96dc32a85d48"
      },
      "execution_count": 8,
      "outputs": [
        {
          "output_type": "execute_result",
          "data": {
            "text/plain": [
              "name\n",
              "George_W_Bush        530\n",
              "Colin_Powell         236\n",
              "Tony_Blair           144\n",
              "Donald_Rumsfeld      121\n",
              "Gerhard_Schroeder    109\n",
              "Ariel_Sharon          77\n",
              "Hugo_Chavez           71\n",
              "Junichiro_Koizumi     60\n",
              "Jean_Chretien         55\n",
              "John_Ashcroft         53\n",
              "Name: count, dtype: int64"
            ]
          },
          "metadata": {},
          "execution_count": 8
        }
      ]
    },
    {
      "cell_type": "code",
      "source": [
        "multi_data = pd.concat([image_paths[image_paths.name==\"George_W_Bush\"].sample(75),\n",
        "                        image_paths[image_paths.name==\"Colin_Powell\"].sample(75),\n",
        "                        image_paths[image_paths.name==\"Tony_Blair\"].sample(75),\n",
        "                        image_paths[image_paths.name==\"Donald_Rumsfeld\"].sample(75),\n",
        "                        image_paths[image_paths.name==\"Gerhard_Schroeder\"].sample(75),\n",
        "                        image_paths[image_paths.name==\"Ariel_Sharon\"].sample(75),\n",
        "                        image_paths[image_paths.name==\"Hugo_Chavez\"].sample(71),\n",
        "                        image_paths[image_paths.name==\"Junichiro_Koizumi\"].sample(60),\n",
        "                        image_paths[image_paths.name==\"Jean_Chretien\"].sample(55),\n",
        "                        image_paths[image_paths.name==\"John_Ashcroft\"].sample(53)\n",
        "                        ]\n",
        "                       )"
      ],
      "metadata": {
        "id": "OMMxlrWpB25X"
      },
      "execution_count": 9,
      "outputs": []
    },
    {
      "cell_type": "code",
      "source": [
        "!pip install tensorflow-probability"
      ],
      "metadata": {
        "colab": {
          "base_uri": "https://localhost:8080/"
        },
        "id": "QGxBJS31bnwz",
        "outputId": "bff70378-a623-4eb0-df7c-14c5e81179ae"
      },
      "execution_count": 10,
      "outputs": [
        {
          "output_type": "stream",
          "name": "stdout",
          "text": [
            "Requirement already satisfied: tensorflow-probability in /usr/local/lib/python3.10/dist-packages (0.23.0)\n",
            "Requirement already satisfied: absl-py in /usr/local/lib/python3.10/dist-packages (from tensorflow-probability) (1.4.0)\n",
            "Requirement already satisfied: six>=1.10.0 in /usr/local/lib/python3.10/dist-packages (from tensorflow-probability) (1.16.0)\n",
            "Requirement already satisfied: numpy>=1.13.3 in /usr/local/lib/python3.10/dist-packages (from tensorflow-probability) (1.25.2)\n",
            "Requirement already satisfied: decorator in /usr/local/lib/python3.10/dist-packages (from tensorflow-probability) (4.4.2)\n",
            "Requirement already satisfied: cloudpickle>=1.3 in /usr/local/lib/python3.10/dist-packages (from tensorflow-probability) (2.2.1)\n",
            "Requirement already satisfied: gast>=0.3.2 in /usr/local/lib/python3.10/dist-packages (from tensorflow-probability) (0.5.4)\n",
            "Requirement already satisfied: dm-tree in /usr/local/lib/python3.10/dist-packages (from tensorflow-probability) (0.1.8)\n"
          ]
        }
      ]
    },
    {
      "cell_type": "code",
      "source": [
        "import cv2\n",
        "from sklearn.preprocessing import LabelEncoder\n",
        "\n",
        "# Get the top 10 most frequent 'name' values\n",
        "top_10_names = image_paths['name'].value_counts()[:10].index\n",
        "\n",
        "# Filter the train and test DataFrames to only include rows where 'name' is in the top 10\n",
        "lfw_train_top_10 = lfw_train[lfw_train['name'].isin(top_10_names)]\n",
        "lfw_test_top_10 = lfw_test[lfw_test['name'].isin(top_10_names)]\n",
        "\n",
        "# 1. Feature Extraction (without flattening)\n",
        "def extract_features(image_paths):\n",
        "    features = []\n",
        "    for path in image_paths:\n",
        "        img = cv2.imread(dataset_path + path, cv2.IMREAD_GRAYSCALE)\n",
        "        img = cv2.resize(img, (100, 100))  # Resize for consistency\n",
        "        features.append(img)  # Append image without flattening\n",
        "    return np.array(features)  # Convert to NumPy array\n",
        "\n",
        "# Extract features for both train and test sets\n",
        "X_train = extract_features(lfw_train_top_10['image_path'])\n",
        "X_test = extract_features(lfw_test_top_10['image_path'])\n",
        "\n",
        "# Reshape to add channel dimension (required for some DBN implementations)\n",
        "X_train = X_train.reshape(X_train.shape[0], X_train.shape[1], X_train.shape[2], 1)  # Add channel dimension\n",
        "X_test = X_test.reshape(X_test.shape[0], X_test.shape[1], X_test.shape[2], 1)  # Add channel dimension\n",
        "\n",
        "# 2. Label Encoding:\n",
        "le = LabelEncoder()\n",
        "y_train = le.fit_transform(lfw_train_top_10['name'])\n",
        "y_test = le.transform(lfw_test_top_10['name'])  # Use transform, not fit_transform"
      ],
      "metadata": {
        "id": "rvImrBaAfmNB"
      },
      "execution_count": 11,
      "outputs": []
    },
    {
      "cell_type": "code",
      "source": [
        "X_train, X_test, y_train, y_test = train_test_split(X, y, test_size=0.2, random_state=42)"
      ],
      "metadata": {
        "id": "hvH9dg7WglVP"
      },
      "execution_count": null,
      "outputs": []
    },
    {
      "cell_type": "code",
      "source": [
        "from sklearn.preprocessing import StandardScaler\n",
        "scaler = StandardScaler()\n",
        "\n",
        "X_train_flat = X_train.reshape(X_train.shape[0], -1)\n",
        "X_test_flat = X_test.reshape(X_test.shape[0], -1)\n",
        "\n",
        "X_train_scaled = scaler.fit_transform(X_train_flat)\n",
        "X_test_scaled = scaler.transform(X_test_flat)"
      ],
      "metadata": {
        "id": "Lz16IIQdqtG_"
      },
      "execution_count": 12,
      "outputs": []
    },
    {
      "cell_type": "code",
      "source": [
        "import numpy as np\n",
        "import pandas as pd\n",
        "from sklearn.preprocessing import StandardScaler\n",
        "from sklearn.neural_network import BernoulliRBM\n",
        "from sklearn.pipeline import Pipeline\n",
        "from sklearn.linear_model import LogisticRegression\n",
        "from sklearn.base import clone"
      ],
      "metadata": {
        "id": "mRMYSlKdtbni"
      },
      "execution_count": 13,
      "outputs": []
    },
    {
      "cell_type": "code",
      "source": [
        "rbm1 = BernoulliRBM(n_components=300, learning_rate=0.01, n_iter=20, verbose=1)\n",
        "rbm2 = BernoulliRBM(n_components=256, learning_rate=0.01, n_iter=20, verbose=1)\n",
        "rbm3 = BernoulliRBM(n_components=128, learning_rate=0.01, n_iter=20, verbose=1)\n",
        "\n",
        "# Initialize the logistic regression model\n",
        "logistic = LogisticRegression(max_iter=1000)\n",
        "\n",
        "# Create a pipeline that stacks the RBMs and then the logistic regression\n",
        "dbn_pipeline = Pipeline(steps=[\n",
        "    ('rbm1', rbm1),\n",
        "    ('rbm2', clone(rbm1)),  # Clone the first RBM to reinitialize it with the same parameters but fresh state\n",
        "    ('rbm3', clone(rbm2)),\n",
        "    ('rbm4', clone(rbm3)),# Clone the second RBM\n",
        "    ('logistic', logistic)\n",
        "])\n",
        "\n",
        "# Assuming X_train_scaled and y_train are already defined and preprocessed\n",
        "# Train the DBN\n",
        "dbn_pipeline.fit(X_train_scaled, y_train)\n"
      ],
      "metadata": {
        "colab": {
          "base_uri": "https://localhost:8080/",
          "height": 1000
        },
        "id": "S8w8m9hCqtNj",
        "outputId": "66b4f43e-cbba-4d89-e53b-e2eee9c84923"
      },
      "execution_count": 14,
      "outputs": [
        {
          "output_type": "stream",
          "name": "stdout",
          "text": [
            "[BernoulliRBM] Iteration 1, pseudo-likelihood = -52638.18, time = 17.26s\n",
            "[BernoulliRBM] Iteration 2, pseudo-likelihood = -112007.75, time = 21.05s\n",
            "[BernoulliRBM] Iteration 3, pseudo-likelihood = -174114.59, time = 10.98s\n",
            "[BernoulliRBM] Iteration 4, pseudo-likelihood = -243388.53, time = 8.88s\n",
            "[BernoulliRBM] Iteration 5, pseudo-likelihood = -282550.80, time = 10.25s\n",
            "[BernoulliRBM] Iteration 6, pseudo-likelihood = -353955.78, time = 11.51s\n",
            "[BernoulliRBM] Iteration 7, pseudo-likelihood = -402894.58, time = 12.77s\n",
            "[BernoulliRBM] Iteration 8, pseudo-likelihood = -475698.61, time = 10.32s\n",
            "[BernoulliRBM] Iteration 9, pseudo-likelihood = -467310.62, time = 10.18s\n",
            "[BernoulliRBM] Iteration 10, pseudo-likelihood = -543607.95, time = 11.25s\n",
            "[BernoulliRBM] Iteration 11, pseudo-likelihood = -558733.57, time = 12.01s\n",
            "[BernoulliRBM] Iteration 12, pseudo-likelihood = -627508.85, time = 10.88s\n",
            "[BernoulliRBM] Iteration 13, pseudo-likelihood = -638795.63, time = 10.17s\n",
            "[BernoulliRBM] Iteration 14, pseudo-likelihood = -703726.03, time = 13.17s\n",
            "[BernoulliRBM] Iteration 15, pseudo-likelihood = -1000623.11, time = 12.75s\n",
            "[BernoulliRBM] Iteration 16, pseudo-likelihood = -804783.39, time = 11.06s\n",
            "[BernoulliRBM] Iteration 17, pseudo-likelihood = -918371.88, time = 10.98s\n",
            "[BernoulliRBM] Iteration 18, pseudo-likelihood = -786221.02, time = 9.39s\n",
            "[BernoulliRBM] Iteration 19, pseudo-likelihood = -1090601.60, time = 11.09s\n",
            "[BernoulliRBM] Iteration 20, pseudo-likelihood = -1215844.42, time = 11.38s\n",
            "[BernoulliRBM] Iteration 1, pseudo-likelihood = -118.05, time = 0.21s\n",
            "[BernoulliRBM] Iteration 2, pseudo-likelihood = -117.96, time = 0.25s\n",
            "[BernoulliRBM] Iteration 3, pseudo-likelihood = -119.95, time = 0.27s\n",
            "[BernoulliRBM] Iteration 4, pseudo-likelihood = -119.77, time = 0.27s\n",
            "[BernoulliRBM] Iteration 5, pseudo-likelihood = -120.34, time = 0.31s\n",
            "[BernoulliRBM] Iteration 6, pseudo-likelihood = -115.66, time = 0.27s\n",
            "[BernoulliRBM] Iteration 7, pseudo-likelihood = -107.69, time = 0.27s\n",
            "[BernoulliRBM] Iteration 8, pseudo-likelihood = -82.66, time = 0.29s\n",
            "[BernoulliRBM] Iteration 9, pseudo-likelihood = -83.02, time = 0.25s\n",
            "[BernoulliRBM] Iteration 10, pseudo-likelihood = -84.89, time = 0.26s\n",
            "[BernoulliRBM] Iteration 11, pseudo-likelihood = -82.86, time = 0.25s\n",
            "[BernoulliRBM] Iteration 12, pseudo-likelihood = -54.04, time = 0.28s\n",
            "[BernoulliRBM] Iteration 13, pseudo-likelihood = -52.53, time = 0.25s\n",
            "[BernoulliRBM] Iteration 14, pseudo-likelihood = -51.86, time = 0.27s\n",
            "[BernoulliRBM] Iteration 15, pseudo-likelihood = -51.55, time = 0.26s\n",
            "[BernoulliRBM] Iteration 16, pseudo-likelihood = -52.53, time = 0.29s\n",
            "[BernoulliRBM] Iteration 17, pseudo-likelihood = -51.35, time = 0.26s\n",
            "[BernoulliRBM] Iteration 18, pseudo-likelihood = -25.01, time = 0.27s\n",
            "[BernoulliRBM] Iteration 19, pseudo-likelihood = -19.67, time = 0.26s\n",
            "[BernoulliRBM] Iteration 20, pseudo-likelihood = -19.46, time = 0.29s\n",
            "[BernoulliRBM] Iteration 1, pseudo-likelihood = -4.06, time = 0.21s\n",
            "[BernoulliRBM] Iteration 2, pseudo-likelihood = -44.30, time = 0.26s\n",
            "[BernoulliRBM] Iteration 3, pseudo-likelihood = -2.66, time = 0.26s\n",
            "[BernoulliRBM] Iteration 4, pseudo-likelihood = -0.58, time = 0.29s\n",
            "[BernoulliRBM] Iteration 5, pseudo-likelihood = -0.78, time = 0.53s\n",
            "[BernoulliRBM] Iteration 6, pseudo-likelihood = -16.74, time = 0.50s\n",
            "[BernoulliRBM] Iteration 7, pseudo-likelihood = -15.85, time = 0.54s\n",
            "[BernoulliRBM] Iteration 8, pseudo-likelihood = -15.68, time = 0.57s\n",
            "[BernoulliRBM] Iteration 9, pseudo-likelihood = -16.35, time = 0.64s\n",
            "[BernoulliRBM] Iteration 10, pseudo-likelihood = -16.63, time = 0.61s\n",
            "[BernoulliRBM] Iteration 11, pseudo-likelihood = -20.75, time = 0.51s\n",
            "[BernoulliRBM] Iteration 12, pseudo-likelihood = -16.34, time = 0.27s\n",
            "[BernoulliRBM] Iteration 13, pseudo-likelihood = -16.19, time = 0.24s\n",
            "[BernoulliRBM] Iteration 14, pseudo-likelihood = -1.63, time = 0.24s\n",
            "[BernoulliRBM] Iteration 15, pseudo-likelihood = -1.00, time = 0.26s\n",
            "[BernoulliRBM] Iteration 16, pseudo-likelihood = -1.84, time = 0.27s\n",
            "[BernoulliRBM] Iteration 17, pseudo-likelihood = -0.96, time = 0.25s\n",
            "[BernoulliRBM] Iteration 18, pseudo-likelihood = -1.16, time = 0.25s\n",
            "[BernoulliRBM] Iteration 19, pseudo-likelihood = -1.00, time = 0.27s\n",
            "[BernoulliRBM] Iteration 20, pseudo-likelihood = -1.08, time = 0.29s\n",
            "[BernoulliRBM] Iteration 1, pseudo-likelihood = -30.62, time = 0.11s\n",
            "[BernoulliRBM] Iteration 2, pseudo-likelihood = -4.31, time = 0.14s\n",
            "[BernoulliRBM] Iteration 3, pseudo-likelihood = -2.82, time = 0.13s\n",
            "[BernoulliRBM] Iteration 4, pseudo-likelihood = -3.33, time = 0.14s\n",
            "[BernoulliRBM] Iteration 5, pseudo-likelihood = -5.53, time = 0.12s\n",
            "[BernoulliRBM] Iteration 6, pseudo-likelihood = -6.08, time = 0.16s\n",
            "[BernoulliRBM] Iteration 7, pseudo-likelihood = -5.14, time = 0.13s\n",
            "[BernoulliRBM] Iteration 8, pseudo-likelihood = -2.32, time = 0.14s\n",
            "[BernoulliRBM] Iteration 9, pseudo-likelihood = -2.13, time = 0.13s\n",
            "[BernoulliRBM] Iteration 10, pseudo-likelihood = -2.44, time = 0.13s\n",
            "[BernoulliRBM] Iteration 11, pseudo-likelihood = -3.55, time = 0.13s\n",
            "[BernoulliRBM] Iteration 12, pseudo-likelihood = -9.63, time = 0.13s\n",
            "[BernoulliRBM] Iteration 13, pseudo-likelihood = -12.17, time = 0.12s\n",
            "[BernoulliRBM] Iteration 14, pseudo-likelihood = -12.71, time = 0.15s\n",
            "[BernoulliRBM] Iteration 15, pseudo-likelihood = -12.39, time = 0.12s\n",
            "[BernoulliRBM] Iteration 16, pseudo-likelihood = -13.33, time = 0.14s\n",
            "[BernoulliRBM] Iteration 17, pseudo-likelihood = -13.02, time = 0.12s\n",
            "[BernoulliRBM] Iteration 18, pseudo-likelihood = -12.43, time = 0.13s\n",
            "[BernoulliRBM] Iteration 19, pseudo-likelihood = -12.57, time = 0.12s\n",
            "[BernoulliRBM] Iteration 20, pseudo-likelihood = -10.62, time = 0.13s\n"
          ]
        },
        {
          "output_type": "execute_result",
          "data": {
            "text/plain": [
              "Pipeline(steps=[('rbm1',\n",
              "                 BernoulliRBM(learning_rate=0.01, n_components=300, n_iter=20,\n",
              "                              verbose=1)),\n",
              "                ('rbm2',\n",
              "                 BernoulliRBM(learning_rate=0.01, n_components=300, n_iter=20,\n",
              "                              verbose=1)),\n",
              "                ('rbm3',\n",
              "                 BernoulliRBM(learning_rate=0.01, n_iter=20, verbose=1)),\n",
              "                ('rbm4',\n",
              "                 BernoulliRBM(learning_rate=0.01, n_components=128, n_iter=20,\n",
              "                              verbose=1)),\n",
              "                ('logistic', LogisticRegression(max_iter=1000))])"
            ],
            "text/html": [
              "<style>#sk-container-id-1 {color: black;background-color: white;}#sk-container-id-1 pre{padding: 0;}#sk-container-id-1 div.sk-toggleable {background-color: white;}#sk-container-id-1 label.sk-toggleable__label {cursor: pointer;display: block;width: 100%;margin-bottom: 0;padding: 0.3em;box-sizing: border-box;text-align: center;}#sk-container-id-1 label.sk-toggleable__label-arrow:before {content: \"▸\";float: left;margin-right: 0.25em;color: #696969;}#sk-container-id-1 label.sk-toggleable__label-arrow:hover:before {color: black;}#sk-container-id-1 div.sk-estimator:hover label.sk-toggleable__label-arrow:before {color: black;}#sk-container-id-1 div.sk-toggleable__content {max-height: 0;max-width: 0;overflow: hidden;text-align: left;background-color: #f0f8ff;}#sk-container-id-1 div.sk-toggleable__content pre {margin: 0.2em;color: black;border-radius: 0.25em;background-color: #f0f8ff;}#sk-container-id-1 input.sk-toggleable__control:checked~div.sk-toggleable__content {max-height: 200px;max-width: 100%;overflow: auto;}#sk-container-id-1 input.sk-toggleable__control:checked~label.sk-toggleable__label-arrow:before {content: \"▾\";}#sk-container-id-1 div.sk-estimator input.sk-toggleable__control:checked~label.sk-toggleable__label {background-color: #d4ebff;}#sk-container-id-1 div.sk-label input.sk-toggleable__control:checked~label.sk-toggleable__label {background-color: #d4ebff;}#sk-container-id-1 input.sk-hidden--visually {border: 0;clip: rect(1px 1px 1px 1px);clip: rect(1px, 1px, 1px, 1px);height: 1px;margin: -1px;overflow: hidden;padding: 0;position: absolute;width: 1px;}#sk-container-id-1 div.sk-estimator {font-family: monospace;background-color: #f0f8ff;border: 1px dotted black;border-radius: 0.25em;box-sizing: border-box;margin-bottom: 0.5em;}#sk-container-id-1 div.sk-estimator:hover {background-color: #d4ebff;}#sk-container-id-1 div.sk-parallel-item::after {content: \"\";width: 100%;border-bottom: 1px solid gray;flex-grow: 1;}#sk-container-id-1 div.sk-label:hover label.sk-toggleable__label {background-color: #d4ebff;}#sk-container-id-1 div.sk-serial::before {content: \"\";position: absolute;border-left: 1px solid gray;box-sizing: border-box;top: 0;bottom: 0;left: 50%;z-index: 0;}#sk-container-id-1 div.sk-serial {display: flex;flex-direction: column;align-items: center;background-color: white;padding-right: 0.2em;padding-left: 0.2em;position: relative;}#sk-container-id-1 div.sk-item {position: relative;z-index: 1;}#sk-container-id-1 div.sk-parallel {display: flex;align-items: stretch;justify-content: center;background-color: white;position: relative;}#sk-container-id-1 div.sk-item::before, #sk-container-id-1 div.sk-parallel-item::before {content: \"\";position: absolute;border-left: 1px solid gray;box-sizing: border-box;top: 0;bottom: 0;left: 50%;z-index: -1;}#sk-container-id-1 div.sk-parallel-item {display: flex;flex-direction: column;z-index: 1;position: relative;background-color: white;}#sk-container-id-1 div.sk-parallel-item:first-child::after {align-self: flex-end;width: 50%;}#sk-container-id-1 div.sk-parallel-item:last-child::after {align-self: flex-start;width: 50%;}#sk-container-id-1 div.sk-parallel-item:only-child::after {width: 0;}#sk-container-id-1 div.sk-dashed-wrapped {border: 1px dashed gray;margin: 0 0.4em 0.5em 0.4em;box-sizing: border-box;padding-bottom: 0.4em;background-color: white;}#sk-container-id-1 div.sk-label label {font-family: monospace;font-weight: bold;display: inline-block;line-height: 1.2em;}#sk-container-id-1 div.sk-label-container {text-align: center;}#sk-container-id-1 div.sk-container {/* jupyter's `normalize.less` sets `[hidden] { display: none; }` but bootstrap.min.css set `[hidden] { display: none !important; }` so we also need the `!important` here to be able to override the default hidden behavior on the sphinx rendered scikit-learn.org. See: https://github.com/scikit-learn/scikit-learn/issues/21755 */display: inline-block !important;position: relative;}#sk-container-id-1 div.sk-text-repr-fallback {display: none;}</style><div id=\"sk-container-id-1\" class=\"sk-top-container\"><div class=\"sk-text-repr-fallback\"><pre>Pipeline(steps=[(&#x27;rbm1&#x27;,\n",
              "                 BernoulliRBM(learning_rate=0.01, n_components=300, n_iter=20,\n",
              "                              verbose=1)),\n",
              "                (&#x27;rbm2&#x27;,\n",
              "                 BernoulliRBM(learning_rate=0.01, n_components=300, n_iter=20,\n",
              "                              verbose=1)),\n",
              "                (&#x27;rbm3&#x27;,\n",
              "                 BernoulliRBM(learning_rate=0.01, n_iter=20, verbose=1)),\n",
              "                (&#x27;rbm4&#x27;,\n",
              "                 BernoulliRBM(learning_rate=0.01, n_components=128, n_iter=20,\n",
              "                              verbose=1)),\n",
              "                (&#x27;logistic&#x27;, LogisticRegression(max_iter=1000))])</pre><b>In a Jupyter environment, please rerun this cell to show the HTML representation or trust the notebook. <br />On GitHub, the HTML representation is unable to render, please try loading this page with nbviewer.org.</b></div><div class=\"sk-container\" hidden><div class=\"sk-item sk-dashed-wrapped\"><div class=\"sk-label-container\"><div class=\"sk-label sk-toggleable\"><input class=\"sk-toggleable__control sk-hidden--visually\" id=\"sk-estimator-id-1\" type=\"checkbox\" ><label for=\"sk-estimator-id-1\" class=\"sk-toggleable__label sk-toggleable__label-arrow\">Pipeline</label><div class=\"sk-toggleable__content\"><pre>Pipeline(steps=[(&#x27;rbm1&#x27;,\n",
              "                 BernoulliRBM(learning_rate=0.01, n_components=300, n_iter=20,\n",
              "                              verbose=1)),\n",
              "                (&#x27;rbm2&#x27;,\n",
              "                 BernoulliRBM(learning_rate=0.01, n_components=300, n_iter=20,\n",
              "                              verbose=1)),\n",
              "                (&#x27;rbm3&#x27;,\n",
              "                 BernoulliRBM(learning_rate=0.01, n_iter=20, verbose=1)),\n",
              "                (&#x27;rbm4&#x27;,\n",
              "                 BernoulliRBM(learning_rate=0.01, n_components=128, n_iter=20,\n",
              "                              verbose=1)),\n",
              "                (&#x27;logistic&#x27;, LogisticRegression(max_iter=1000))])</pre></div></div></div><div class=\"sk-serial\"><div class=\"sk-item\"><div class=\"sk-estimator sk-toggleable\"><input class=\"sk-toggleable__control sk-hidden--visually\" id=\"sk-estimator-id-2\" type=\"checkbox\" ><label for=\"sk-estimator-id-2\" class=\"sk-toggleable__label sk-toggleable__label-arrow\">BernoulliRBM</label><div class=\"sk-toggleable__content\"><pre>BernoulliRBM(learning_rate=0.01, n_components=300, n_iter=20, verbose=1)</pre></div></div></div><div class=\"sk-item\"><div class=\"sk-estimator sk-toggleable\"><input class=\"sk-toggleable__control sk-hidden--visually\" id=\"sk-estimator-id-3\" type=\"checkbox\" ><label for=\"sk-estimator-id-3\" class=\"sk-toggleable__label sk-toggleable__label-arrow\">BernoulliRBM</label><div class=\"sk-toggleable__content\"><pre>BernoulliRBM(learning_rate=0.01, n_components=300, n_iter=20, verbose=1)</pre></div></div></div><div class=\"sk-item\"><div class=\"sk-estimator sk-toggleable\"><input class=\"sk-toggleable__control sk-hidden--visually\" id=\"sk-estimator-id-4\" type=\"checkbox\" ><label for=\"sk-estimator-id-4\" class=\"sk-toggleable__label sk-toggleable__label-arrow\">BernoulliRBM</label><div class=\"sk-toggleable__content\"><pre>BernoulliRBM(learning_rate=0.01, n_iter=20, verbose=1)</pre></div></div></div><div class=\"sk-item\"><div class=\"sk-estimator sk-toggleable\"><input class=\"sk-toggleable__control sk-hidden--visually\" id=\"sk-estimator-id-5\" type=\"checkbox\" ><label for=\"sk-estimator-id-5\" class=\"sk-toggleable__label sk-toggleable__label-arrow\">BernoulliRBM</label><div class=\"sk-toggleable__content\"><pre>BernoulliRBM(learning_rate=0.01, n_components=128, n_iter=20, verbose=1)</pre></div></div></div><div class=\"sk-item\"><div class=\"sk-estimator sk-toggleable\"><input class=\"sk-toggleable__control sk-hidden--visually\" id=\"sk-estimator-id-6\" type=\"checkbox\" ><label for=\"sk-estimator-id-6\" class=\"sk-toggleable__label sk-toggleable__label-arrow\">LogisticRegression</label><div class=\"sk-toggleable__content\"><pre>LogisticRegression(max_iter=1000)</pre></div></div></div></div></div></div></div>"
            ]
          },
          "metadata": {},
          "execution_count": 14
        }
      ]
    },
    {
      "cell_type": "code",
      "source": [
        "# Evaluate the model on the training set\n",
        "dbn_train_score = dbn_pipeline.score(X_train_scaled, y_train)\n",
        "print(f\"Training Accuracy: {dbn_train_score*100}%\")\n",
        "\n",
        "# Evaluate the model on the test set\n",
        "dbn_test_score = dbn_pipeline.score(X_test_scaled, y_test)\n",
        "print(f\"Validation Accuracy: {dbn_test_score*100}%\")"
      ],
      "metadata": {
        "colab": {
          "base_uri": "https://localhost:8080/"
        },
        "id": "f4QdvhPyyuVk",
        "outputId": "aec592c8-a733-43c3-ab42-7c51f0a8f625"
      },
      "execution_count": 17,
      "outputs": [
        {
          "output_type": "stream",
          "name": "stdout",
          "text": [
            "Training Accuracy: 36.0%\n",
            "Validation Accuracy: 38.07829181494662%\n"
          ]
        }
      ]
    },
    {
      "cell_type": "code",
      "source": [
        "import io\n",
        "import ipywidgets as widgets\n",
        "from IPython.display import display, clear_output\n",
        "from PIL import Image\n",
        "import matplotlib.pyplot as plt\n",
        "\n",
        "# Create upload button\n",
        "upload = widgets.FileUpload(\n",
        "    accept='.jpg',  # Accepted file extension\n",
        "    multiple=False  # True to accept multiple files upload else False\n",
        ")\n",
        "\n",
        "# Display the upload button\n",
        "display(upload)\n",
        "\n",
        "# Define a function to handle the file upload\n",
        "def on_file_upload(change):\n",
        "    # Get the uploaded file\n",
        "    uploaded_file = change['owner'].data[0]\n",
        "\n",
        "    # Convert bytes to an image\n",
        "    img = Image.open(io.BytesIO(uploaded_file))\n",
        "\n",
        "    # Preprocess the image\n",
        "    img = img.convert('L')  # Convert to grayscale\n",
        "    img = img.resize((100, 100))  # Resize to match the model's expected input shape\n",
        "    img_array = np.array(img)  # Convert to NumPy array\n",
        "    img_array_flat = img_array.reshape(1, -1)  # Flatten the array\n",
        "\n",
        "    # Predict the label\n",
        "    label = dbn_pipeline.predict(img_array_flat)\n",
        "\n",
        "    # Decode the label\n",
        "    decoded_label = le.inverse_transform(label)\n",
        "\n",
        "    # Clear the previous output\n",
        "    clear_output()\n",
        "\n",
        "    # Plot the image\n",
        "    plt.imshow(img_array, cmap='gray')\n",
        "    plt.title(f\"Predicted: {decoded_label[0]}\")\n",
        "    plt.axis('off')  # to hide the axis\n",
        "    plt.show()\n",
        "\n",
        "# Attach the function to the upload button\n",
        "upload.observe(on_file_upload, names='data')"
      ],
      "metadata": {
        "colab": {
          "base_uri": "https://localhost:8080/",
          "height": 428,
          "referenced_widgets": [
            "2ea6b4e1762b4be3a30c4a8ea988365a",
            "4fcd43e813c949b9b1c4dc97c340c106",
            "9ce4e588b95d4ff69aeaf18c64b4b671"
          ]
        },
        "id": "ifvPL82P-b8v",
        "outputId": "d3554e0b-9048-4556-c823-1b5be0d9513a"
      },
      "execution_count": 16,
      "outputs": [
        {
          "output_type": "display_data",
          "data": {
            "text/plain": [
              "<Figure size 640x480 with 1 Axes>"
            ],
            "image/png": "[encoded data removed]"
          },
          "metadata": {}
        }
      ]
    }
  ]
}